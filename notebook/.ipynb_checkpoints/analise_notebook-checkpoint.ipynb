{
 "cells": [
  {
   "cell_type": "markdown",
   "metadata": {},
   "source": [
    "# Avaliação 2 - Introdução à Ciência de Dados\n",
    "\n",
    "## Análise do banco de dados \"Police Violence & Racial Equity - Part 2 of 3\"\n",
    "\n",
    "### Felipe Lamarca e Guilherme Melo "
   ]
  },
  {
   "cell_type": "code",
   "execution_count": 1,
   "metadata": {
    "scrolled": true
   },
   "outputs": [],
   "source": [
    "import os\n",
    "import numpy as np\n",
    "import pandas as pd\n",
    "import matplotlib.pyplot as plt\n",
    "import seaborn as sns"
   ]
  },
  {
   "cell_type": "markdown",
   "metadata": {},
   "source": [
    "### Abrindo a base de dados"
   ]
  },
  {
   "cell_type": "code",
   "execution_count": 2,
   "metadata": {},
   "outputs": [],
   "source": [
    "dados = pd.read_csv(os.path.join('/Users/felipe/Desktop','juvenile_arrests.csv'))"
   ]
  },
  {
   "cell_type": "code",
   "execution_count": 3,
   "metadata": {},
   "outputs": [
    {
     "data": {
      "text/plain": [
       "pandas.core.frame.DataFrame"
      ]
     },
     "execution_count": 3,
     "metadata": {},
     "output_type": "execute_result"
    }
   ],
   "source": [
    "type(dados)"
   ]
  },
  {
   "cell_type": "code",
   "execution_count": 4,
   "metadata": {},
   "outputs": [
    {
     "data": {
      "text/html": [
       "<div>\n",
       "<style scoped>\n",
       "    .dataframe tbody tr th:only-of-type {\n",
       "        vertical-align: middle;\n",
       "    }\n",
       "\n",
       "    .dataframe tbody tr th {\n",
       "        vertical-align: top;\n",
       "    }\n",
       "\n",
       "    .dataframe thead th {\n",
       "        text-align: right;\n",
       "    }\n",
       "</style>\n",
       "<table border=\"1\" class=\"dataframe\">\n",
       "  <thead>\n",
       "    <tr style=\"text-align: right;\">\n",
       "      <th></th>\n",
       "      <th>Category</th>\n",
       "      <th>Offense</th>\n",
       "      <th>1980</th>\n",
       "      <th>1981</th>\n",
       "      <th>1982</th>\n",
       "      <th>1983</th>\n",
       "      <th>1984</th>\n",
       "      <th>1985</th>\n",
       "      <th>1986</th>\n",
       "      <th>1987</th>\n",
       "      <th>...</th>\n",
       "      <th>2009</th>\n",
       "      <th>2010</th>\n",
       "      <th>2011</th>\n",
       "      <th>2012</th>\n",
       "      <th>2013</th>\n",
       "      <th>2014</th>\n",
       "      <th>2015</th>\n",
       "      <th>2016</th>\n",
       "      <th>2017</th>\n",
       "      <th>2018</th>\n",
       "    </tr>\n",
       "  </thead>\n",
       "  <tbody>\n",
       "    <tr>\n",
       "      <th>0</th>\n",
       "      <td>Juvenile Arrest Rates (Arrest of Persons Age 1...</td>\n",
       "      <td>All crimes</td>\n",
       "      <td>6396.6</td>\n",
       "      <td>6370.3</td>\n",
       "      <td>6607.7</td>\n",
       "      <td>6073.9</td>\n",
       "      <td>6110.2</td>\n",
       "      <td>6466.1</td>\n",
       "      <td>6728.5</td>\n",
       "      <td>6808.2</td>\n",
       "      <td>...</td>\n",
       "      <td>5343.8</td>\n",
       "      <td>4856.9</td>\n",
       "      <td>4366.4</td>\n",
       "      <td>3940.3</td>\n",
       "      <td>3237.2</td>\n",
       "      <td>3060.6</td>\n",
       "      <td>2753.6</td>\n",
       "      <td>2552.9</td>\n",
       "      <td>2409.7</td>\n",
       "      <td>2167.1</td>\n",
       "    </tr>\n",
       "    <tr>\n",
       "      <th>1</th>\n",
       "      <td>Juvenile Arrest Rates (Arrest of Persons Age 1...</td>\n",
       "      <td>Murder and nonneglient manslaughter</td>\n",
       "      <td>5.8</td>\n",
       "      <td>6.6</td>\n",
       "      <td>6.1</td>\n",
       "      <td>5.1</td>\n",
       "      <td>4.6</td>\n",
       "      <td>5.3</td>\n",
       "      <td>5.9</td>\n",
       "      <td>6.4</td>\n",
       "      <td>...</td>\n",
       "      <td>3.5</td>\n",
       "      <td>3.0</td>\n",
       "      <td>2.5</td>\n",
       "      <td>2.2</td>\n",
       "      <td>2.3</td>\n",
       "      <td>2.3</td>\n",
       "      <td>2.4</td>\n",
       "      <td>2.6</td>\n",
       "      <td>2.7</td>\n",
       "      <td>2.7</td>\n",
       "    </tr>\n",
       "    <tr>\n",
       "      <th>2</th>\n",
       "      <td>Juvenile Arrest Rates (Arrest of Persons Age 1...</td>\n",
       "      <td>Forcible rape*</td>\n",
       "      <td>14.9</td>\n",
       "      <td>15.2</td>\n",
       "      <td>16.2</td>\n",
       "      <td>16.6</td>\n",
       "      <td>19.1</td>\n",
       "      <td>19.6</td>\n",
       "      <td>20.3</td>\n",
       "      <td>20.0</td>\n",
       "      <td>...</td>\n",
       "      <td>9.2</td>\n",
       "      <td>8.5</td>\n",
       "      <td>8.3</td>\n",
       "      <td>7.6</td>\n",
       "      <td>NaN</td>\n",
       "      <td>NaN</td>\n",
       "      <td>NaN</td>\n",
       "      <td>NaN</td>\n",
       "      <td>NaN</td>\n",
       "      <td>NaN</td>\n",
       "    </tr>\n",
       "    <tr>\n",
       "      <th>3</th>\n",
       "      <td>Juvenile Arrest Rates (Arrest of Persons Age 1...</td>\n",
       "      <td>Robbery</td>\n",
       "      <td>145.1</td>\n",
       "      <td>146.5</td>\n",
       "      <td>137.5</td>\n",
       "      <td>129.7</td>\n",
       "      <td>121.9</td>\n",
       "      <td>121.9</td>\n",
       "      <td>119.4</td>\n",
       "      <td>110.6</td>\n",
       "      <td>...</td>\n",
       "      <td>93.9</td>\n",
       "      <td>80.8</td>\n",
       "      <td>70.9</td>\n",
       "      <td>64.5</td>\n",
       "      <td>57.8</td>\n",
       "      <td>58.7</td>\n",
       "      <td>55.6</td>\n",
       "      <td>57.6</td>\n",
       "      <td>57.8</td>\n",
       "      <td>51.7</td>\n",
       "    </tr>\n",
       "    <tr>\n",
       "      <th>4</th>\n",
       "      <td>Juvenile Arrest Rates (Arrest of Persons Age 1...</td>\n",
       "      <td>Aggravated assault</td>\n",
       "      <td>129.6</td>\n",
       "      <td>128.5</td>\n",
       "      <td>133.9</td>\n",
       "      <td>128.0</td>\n",
       "      <td>133.2</td>\n",
       "      <td>145.6</td>\n",
       "      <td>158.0</td>\n",
       "      <td>158.4</td>\n",
       "      <td>...</td>\n",
       "      <td>146.8</td>\n",
       "      <td>132.2</td>\n",
       "      <td>120.6</td>\n",
       "      <td>108.2</td>\n",
       "      <td>92.3</td>\n",
       "      <td>90.3</td>\n",
       "      <td>85.4</td>\n",
       "      <td>83.7</td>\n",
       "      <td>83.9</td>\n",
       "      <td>83.1</td>\n",
       "    </tr>\n",
       "    <tr>\n",
       "      <th>5</th>\n",
       "      <td>Juvenile Arrest Rates (Arrest of Persons Age 1...</td>\n",
       "      <td>Burglary</td>\n",
       "      <td>728.4</td>\n",
       "      <td>707.5</td>\n",
       "      <td>684.6</td>\n",
       "      <td>609.8</td>\n",
       "      <td>553.0</td>\n",
       "      <td>585.2</td>\n",
       "      <td>568.7</td>\n",
       "      <td>551.7</td>\n",
       "      <td>...</td>\n",
       "      <td>220.0</td>\n",
       "      <td>192.4</td>\n",
       "      <td>183.6</td>\n",
       "      <td>160.4</td>\n",
       "      <td>128.6</td>\n",
       "      <td>121.1</td>\n",
       "      <td>106.3</td>\n",
       "      <td>95.3</td>\n",
       "      <td>91.6</td>\n",
       "      <td>66.0</td>\n",
       "    </tr>\n",
       "    <tr>\n",
       "      <th>6</th>\n",
       "      <td>Juvenile Arrest Rates (Arrest of Persons Age 1...</td>\n",
       "      <td>Larceny-theft</td>\n",
       "      <td>1409.2</td>\n",
       "      <td>1395.0</td>\n",
       "      <td>1436.2</td>\n",
       "      <td>1402.7</td>\n",
       "      <td>1429.6</td>\n",
       "      <td>1504.4</td>\n",
       "      <td>1545.4</td>\n",
       "      <td>1590.2</td>\n",
       "      <td>...</td>\n",
       "      <td>937.6</td>\n",
       "      <td>832.3</td>\n",
       "      <td>755.1</td>\n",
       "      <td>671.0</td>\n",
       "      <td>558.3</td>\n",
       "      <td>531.1</td>\n",
       "      <td>467.3</td>\n",
       "      <td>401.2</td>\n",
       "      <td>353.6</td>\n",
       "      <td>276.2</td>\n",
       "    </tr>\n",
       "    <tr>\n",
       "      <th>7</th>\n",
       "      <td>Juvenile Arrest Rates (Arrest of Persons Age 1...</td>\n",
       "      <td>Motor vehicle theft</td>\n",
       "      <td>201.6</td>\n",
       "      <td>169.8</td>\n",
       "      <td>156.8</td>\n",
       "      <td>142.3</td>\n",
       "      <td>149.7</td>\n",
       "      <td>180.8</td>\n",
       "      <td>217.5</td>\n",
       "      <td>244.1</td>\n",
       "      <td>...</td>\n",
       "      <td>59.0</td>\n",
       "      <td>46.8</td>\n",
       "      <td>41.8</td>\n",
       "      <td>39.3</td>\n",
       "      <td>35.0</td>\n",
       "      <td>38.2</td>\n",
       "      <td>43.7</td>\n",
       "      <td>47.2</td>\n",
       "      <td>48.8</td>\n",
       "      <td>44.2</td>\n",
       "    </tr>\n",
       "  </tbody>\n",
       "</table>\n",
       "<p>8 rows × 41 columns</p>\n",
       "</div>"
      ],
      "text/plain": [
       "                                            Category  \\\n",
       "0  Juvenile Arrest Rates (Arrest of Persons Age 1...   \n",
       "1  Juvenile Arrest Rates (Arrest of Persons Age 1...   \n",
       "2  Juvenile Arrest Rates (Arrest of Persons Age 1...   \n",
       "3  Juvenile Arrest Rates (Arrest of Persons Age 1...   \n",
       "4  Juvenile Arrest Rates (Arrest of Persons Age 1...   \n",
       "5  Juvenile Arrest Rates (Arrest of Persons Age 1...   \n",
       "6  Juvenile Arrest Rates (Arrest of Persons Age 1...   \n",
       "7  Juvenile Arrest Rates (Arrest of Persons Age 1...   \n",
       "\n",
       "                               Offense    1980    1981    1982    1983  \\\n",
       "0                           All crimes  6396.6  6370.3  6607.7  6073.9   \n",
       "1  Murder and nonneglient manslaughter     5.8     6.6     6.1     5.1   \n",
       "2                       Forcible rape*    14.9    15.2    16.2    16.6   \n",
       "3                              Robbery   145.1   146.5   137.5   129.7   \n",
       "4                   Aggravated assault   129.6   128.5   133.9   128.0   \n",
       "5                             Burglary   728.4   707.5   684.6   609.8   \n",
       "6                        Larceny-theft  1409.2  1395.0  1436.2  1402.7   \n",
       "7                  Motor vehicle theft   201.6   169.8   156.8   142.3   \n",
       "\n",
       "     1984    1985    1986    1987  ...    2009    2010    2011    2012  \\\n",
       "0  6110.2  6466.1  6728.5  6808.2  ...  5343.8  4856.9  4366.4  3940.3   \n",
       "1     4.6     5.3     5.9     6.4  ...     3.5     3.0     2.5     2.2   \n",
       "2    19.1    19.6    20.3    20.0  ...     9.2     8.5     8.3     7.6   \n",
       "3   121.9   121.9   119.4   110.6  ...    93.9    80.8    70.9    64.5   \n",
       "4   133.2   145.6   158.0   158.4  ...   146.8   132.2   120.6   108.2   \n",
       "5   553.0   585.2   568.7   551.7  ...   220.0   192.4   183.6   160.4   \n",
       "6  1429.6  1504.4  1545.4  1590.2  ...   937.6   832.3   755.1   671.0   \n",
       "7   149.7   180.8   217.5   244.1  ...    59.0    46.8    41.8    39.3   \n",
       "\n",
       "     2013    2014    2015    2016    2017    2018  \n",
       "0  3237.2  3060.6  2753.6  2552.9  2409.7  2167.1  \n",
       "1     2.3     2.3     2.4     2.6     2.7     2.7  \n",
       "2     NaN     NaN     NaN     NaN     NaN     NaN  \n",
       "3    57.8    58.7    55.6    57.6    57.8    51.7  \n",
       "4    92.3    90.3    85.4    83.7    83.9    83.1  \n",
       "5   128.6   121.1   106.3    95.3    91.6    66.0  \n",
       "6   558.3   531.1   467.3   401.2   353.6   276.2  \n",
       "7    35.0    38.2    43.7    47.2    48.8    44.2  \n",
       "\n",
       "[8 rows x 41 columns]"
      ]
     },
     "execution_count": 4,
     "metadata": {},
     "output_type": "execute_result"
    }
   ],
   "source": [
    "dados.head(8)"
   ]
  },
  {
   "cell_type": "code",
   "execution_count": 5,
   "metadata": {},
   "outputs": [
    {
     "data": {
      "text/plain": [
       "Index(['Category', 'Offense', '1980', '1981', '1982', '1983', '1984', '1985',\n",
       "       '1986', '1987', '1988', '1989', '1990', '1991', '1992', '1993', '1994',\n",
       "       '1995', '1996', '1997', '1998', '1999', '2000', '2001', '2002', '2003',\n",
       "       '2004', '2005', '2006', '2007', '2008', '2009', '2010', '2011', '2012',\n",
       "       '2013', '2014', '2015', '2016', '2017', '2018'],\n",
       "      dtype='object')"
      ]
     },
     "execution_count": 5,
     "metadata": {},
     "output_type": "execute_result"
    }
   ],
   "source": [
    "dados.columns"
   ]
  },
  {
   "cell_type": "code",
   "execution_count": null,
   "metadata": {},
   "outputs": [],
   "source": [
    "# dados = dados.transpose()\n",
    "# dados.head(8)"
   ]
  },
  {
   "cell_type": "code",
   "execution_count": 11,
   "metadata": {},
   "outputs": [
    {
     "data": {
      "text/plain": [
       "<pandas.core.groupby.generic.SeriesGroupBy object at 0x7fd789f67dc0>"
      ]
     },
     "execution_count": 11,
     "metadata": {},
     "output_type": "execute_result"
    }
   ],
   "source": [
    "dados = dados.rename(columns = {'1980':'a'})\n",
    "grouped = dados.groupby('Offense').a\n",
    "grouped"
   ]
  },
  {
   "cell_type": "code",
   "execution_count": 12,
   "metadata": {},
   "outputs": [
    {
     "data": {
      "text/plain": [
       "Offense\n",
       "Aggravated assault                     AxesSubplot(0.125,0.125;0.775x0.755)\n",
       "All crimes                             AxesSubplot(0.125,0.125;0.775x0.755)\n",
       "Arson                                  AxesSubplot(0.125,0.125;0.775x0.755)\n",
       "Burglary                               AxesSubplot(0.125,0.125;0.775x0.755)\n",
       "Curfew and loitering                   AxesSubplot(0.125,0.125;0.775x0.755)\n",
       "Disorderly conduct                     AxesSubplot(0.125,0.125;0.775x0.755)\n",
       "Driving under the influence            AxesSubplot(0.125,0.125;0.775x0.755)\n",
       "Drug abuse violations                  AxesSubplot(0.125,0.125;0.775x0.755)\n",
       "Drunkenness                            AxesSubplot(0.125,0.125;0.775x0.755)\n",
       "Forcible rape*                         AxesSubplot(0.125,0.125;0.775x0.755)\n",
       "Larceny-theft                          AxesSubplot(0.125,0.125;0.775x0.755)\n",
       "Liquor law violations                  AxesSubplot(0.125,0.125;0.775x0.755)\n",
       "Motor vehicle theft                    AxesSubplot(0.125,0.125;0.775x0.755)\n",
       "Murder and nonneglient manslaughter    AxesSubplot(0.125,0.125;0.775x0.755)\n",
       "Property crime index                   AxesSubplot(0.125,0.125;0.775x0.755)\n",
       "Robbery                                AxesSubplot(0.125,0.125;0.775x0.755)\n",
       "Running away                           AxesSubplot(0.125,0.125;0.775x0.755)\n",
       "Simple assault                         AxesSubplot(0.125,0.125;0.775x0.755)\n",
       "Vandalism                              AxesSubplot(0.125,0.125;0.775x0.755)\n",
       "Violent crimes*                        AxesSubplot(0.125,0.125;0.775x0.755)\n",
       "Weapons law violations                 AxesSubplot(0.125,0.125;0.775x0.755)\n",
       "Name: a, dtype: object"
      ]
     },
     "execution_count": 12,
     "metadata": {},
     "output_type": "execute_result"
    },
    {
     "data": {
      "image/png": "[encoded data removed]",
      "text/plain": [
       "<Figure size 1080x576 with 1 Axes>"
      ]
     },
     "metadata": {
      "needs_background": "light"
     },
     "output_type": "display_data"
    }
   ],
   "source": [
    "fig = plt.figure(figsize=(15,8))\n",
    "ax1 = fig.add_subplot(1,1,1)\n",
    "ax1.set_xlabel('Offense')\n",
    "ax1.set_ylabel('1980')\n",
    "\n",
    "grouped.plot(ax=ax1, kind='line')"
   ]
  },
  {
   "cell_type": "code",
   "execution_count": null,
   "metadata": {},
   "outputs": [],
   "source": []
  },
  {
   "cell_type": "code",
   "execution_count": null,
   "metadata": {},
   "outputs": [],
   "source": []
  },
  {
   "cell_type": "code",
   "execution_count": null,
   "metadata": {},
   "outputs": [],
   "source": []
  }
 ],
 "metadata": {
  "kernelspec": {
   "display_name": "Python 3",
   "language": "python",
   "name": "python3"
  },
  "language_info": {
   "codemirror_mode": {
    "name": "ipython",
    "version": 3
   },
   "file_extension": ".py",
   "mimetype": "text/x-python",
   "name": "python",
   "nbconvert_exporter": "python",
   "pygments_lexer": "ipython3",
   "version": "3.8.5"
  }
 },
 "nbformat": 4,
 "nbformat_minor": 4
}
